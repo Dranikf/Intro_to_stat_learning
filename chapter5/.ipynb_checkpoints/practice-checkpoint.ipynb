{
 "cells": [
  {
   "cell_type": "markdown",
   "id": "03446911-5b8b-4c0b-b0fa-d0332d103891",
   "metadata": {},
   "source": [
    "**Практика**"
   ]
  },
  {
   "cell_type": "code",
   "execution_count": 8,
   "id": "9526e1cf-5999-443c-9aee-7f1cde5d1142",
   "metadata": {},
   "outputs": [
    {
     "data": {
      "text/html": [
       "<table class=\"dataframe\">\n",
       "<caption>A data.frame: 6 × 4</caption>\n",
       "<thead>\n",
       "\t<tr><th></th><th scope=col>default</th><th scope=col>student</th><th scope=col>balance</th><th scope=col>income</th></tr>\n",
       "\t<tr><th></th><th scope=col>&lt;fct&gt;</th><th scope=col>&lt;fct&gt;</th><th scope=col>&lt;dbl&gt;</th><th scope=col>&lt;dbl&gt;</th></tr>\n",
       "</thead>\n",
       "<tbody>\n",
       "\t<tr><th scope=row>1</th><td>No</td><td>No </td><td> 729.5265</td><td>44361.625</td></tr>\n",
       "\t<tr><th scope=row>2</th><td>No</td><td>Yes</td><td> 817.1804</td><td>12106.135</td></tr>\n",
       "\t<tr><th scope=row>3</th><td>No</td><td>No </td><td>1073.5492</td><td>31767.139</td></tr>\n",
       "\t<tr><th scope=row>4</th><td>No</td><td>No </td><td> 529.2506</td><td>35704.494</td></tr>\n",
       "\t<tr><th scope=row>5</th><td>No</td><td>No </td><td> 785.6559</td><td>38463.496</td></tr>\n",
       "\t<tr><th scope=row>6</th><td>No</td><td>Yes</td><td> 919.5885</td><td> 7491.559</td></tr>\n",
       "</tbody>\n",
       "</table>\n"
      ],
      "text/latex": [
       "A data.frame: 6 × 4\n",
       "\\begin{tabular}{r|llll}\n",
       "  & default & student & balance & income\\\\\n",
       "  & <fct> & <fct> & <dbl> & <dbl>\\\\\n",
       "\\hline\n",
       "\t1 & No & No  &  729.5265 & 44361.625\\\\\n",
       "\t2 & No & Yes &  817.1804 & 12106.135\\\\\n",
       "\t3 & No & No  & 1073.5492 & 31767.139\\\\\n",
       "\t4 & No & No  &  529.2506 & 35704.494\\\\\n",
       "\t5 & No & No  &  785.6559 & 38463.496\\\\\n",
       "\t6 & No & Yes &  919.5885 &  7491.559\\\\\n",
       "\\end{tabular}\n"
      ],
      "text/markdown": [
       "\n",
       "A data.frame: 6 × 4\n",
       "\n",
       "| <!--/--> | default &lt;fct&gt; | student &lt;fct&gt; | balance &lt;dbl&gt; | income &lt;dbl&gt; |\n",
       "|---|---|---|---|---|\n",
       "| 1 | No | No  |  729.5265 | 44361.625 |\n",
       "| 2 | No | Yes |  817.1804 | 12106.135 |\n",
       "| 3 | No | No  | 1073.5492 | 31767.139 |\n",
       "| 4 | No | No  |  529.2506 | 35704.494 |\n",
       "| 5 | No | No  |  785.6559 | 38463.496 |\n",
       "| 6 | No | Yes |  919.5885 |  7491.559 |\n",
       "\n"
      ],
      "text/plain": [
       "  default student balance   income   \n",
       "1 No      No       729.5265 44361.625\n",
       "2 No      Yes      817.1804 12106.135\n",
       "3 No      No      1073.5492 31767.139\n",
       "4 No      No       529.2506 35704.494\n",
       "5 No      No       785.6559 38463.496\n",
       "6 No      Yes      919.5885  7491.559"
      ]
     },
     "metadata": {},
     "output_type": "display_data"
    }
   ],
   "source": [
    "library(ISLR)\n",
    "head(Default)"
   ]
  },
  {
   "cell_type": "markdown",
   "id": "3fca5d1a-535f-446d-9b04-94fb4ea893f7",
   "metadata": {},
   "source": [
    "# 5"
   ]
  },
  {
   "cell_type": "markdown",
   "id": "5d851806-4ee9-47c0-95f4-bdc4fe09594f",
   "metadata": {},
   "source": [
    "a)"
   ]
  },
  {
   "cell_type": "code",
   "execution_count": 10,
   "id": "e4d2887b-3d0e-46fe-a317-12c9749d5e80",
   "metadata": {},
   "outputs": [
    {
     "data": {
      "text/plain": [
       "\n",
       "Call:  glm(formula = default ~ income + balance, family = \"binomial\", \n",
       "    data = Default)\n",
       "\n",
       "Coefficients:\n",
       "(Intercept)       income      balance  \n",
       " -1.154e+01    2.081e-05    5.647e-03  \n",
       "\n",
       "Degrees of Freedom: 9999 Total (i.e. Null);  9997 Residual\n",
       "Null Deviance:\t    2921 \n",
       "Residual Deviance: 1579 \tAIC: 1585"
      ]
     },
     "metadata": {},
     "output_type": "display_data"
    }
   ],
   "source": [
    "glm(default ~ income + balance, data = Default, family = 'binomial')"
   ]
  },
  {
   "cell_type": "markdown",
   "id": "a6a542b3-7532-4d0c-ba12-94e959ea1c33",
   "metadata": {},
   "source": [
    "b)"
   ]
  },
  {
   "cell_type": "code",
   "execution_count": 27,
   "id": "7e177aa9-1fa4-4786-b26b-dcd3ab32549e",
   "metadata": {},
   "outputs": [],
   "source": [
    "set.seed(10)\n",
    "train = sample(nrow(Default), nrow(Default)/2)"
   ]
  },
  {
   "cell_type": "code",
   "execution_count": 72,
   "id": "3d643e81-ce1e-4922-b3e9-1f6ff624aa98",
   "metadata": {},
   "outputs": [],
   "source": [
    "get_mis_tab = function(train){\n",
    "    glm.fit = glm(\n",
    "    default ~ income + balance, \n",
    "    data = Default, \n",
    "    family = 'binomial',\n",
    "    subset = train\n",
    ")\n",
    "\n",
    "    glm.prob = predict(glm.fit, Default, type = 'response')[-train]\n",
    "    glm.pred = rep(\"No\", length(glm.prob))\n",
    "    glm.pred[glm.prob > 0.5] = \"Yes\"\n",
    "\n",
    "    mis_tab = table(\n",
    "        glm.pred,\n",
    "        Default[-train, 'default'],\n",
    "        dnn = c('predicted', 'real')\n",
    "    )\n",
    "    \n",
    "    return(mis_tab)\n",
    "}"
   ]
  },
  {
   "cell_type": "code",
   "execution_count": 80,
   "id": "ed42483a-c27d-460e-99f9-4d543dd8b6a1",
   "metadata": {},
   "outputs": [
    {
     "data": {
      "text/plain": [
       "         real\n",
       "predicted   No  Yes\n",
       "      No  4815  125\n",
       "      Yes   19   41"
      ]
     },
     "metadata": {},
     "output_type": "display_data"
    },
    {
     "data": {
      "text/html": [
       "0.0288"
      ],
      "text/latex": [
       "0.0288"
      ],
      "text/markdown": [
       "0.0288"
      ],
      "text/plain": [
       "[1] 0.0288"
      ]
     },
     "metadata": {},
     "output_type": "display_data"
    }
   ],
   "source": [
    "mis_tab = get_mis_tab(train)\n",
    "mis_tab\n",
    "\n",
    "comp_err_mt = function(mis_tab){\n",
    "    return ((mis_tab[1,2] + mis_tab[2,1])/sum(mis_tab))\n",
    "}\n",
    "\n",
    "comp_err_mt(mis_tab)"
   ]
  },
  {
   "cell_type": "markdown",
   "id": "85f0c2fc-adb7-4ba9-9c78-6b22e2f4dbf7",
   "metadata": {},
   "source": [
    "c)"
   ]
  },
  {
   "cell_type": "code",
   "execution_count": 97,
   "id": "275e69ed-dca2-4c00-849e-696ccebff61c",
   "metadata": {},
   "outputs": [
    {
     "name": "stdout",
     "output_type": "stream",
     "text": [
      "[1] \"=====seed = 11\"\n",
      "         real\n",
      "predicted   No  Yes\n",
      "      No  4825  107\n",
      "      Yes   14   54\n",
      "[1] \"error 0.0242\"\n",
      "[1] \"=====seed = 12\"\n",
      "         real\n",
      "predicted   No  Yes\n",
      "      No  4806  112\n",
      "      Yes   23   59\n",
      "[1] \"error 0.027\"\n",
      "[1] \"=====seed = 13\"\n",
      "         real\n",
      "predicted   No  Yes\n",
      "      No  4811  110\n",
      "      Yes   24   55\n",
      "[1] \"error 0.0268\"\n",
      "[1] \"=====seed = 14\"\n",
      "         real\n",
      "predicted   No  Yes\n",
      "      No  4833  110\n",
      "      Yes   12   45\n",
      "[1] \"error 0.0244\"\n",
      "[1] \"=====seed = 15\"\n",
      "         real\n",
      "predicted   No  Yes\n",
      "      No  4806  113\n",
      "      Yes   23   58\n",
      "[1] \"error 0.0272\"\n",
      "[1] \"=====seed = 16\"\n",
      "         real\n",
      "predicted   No  Yes\n",
      "      No  4808  116\n",
      "      Yes   15   61\n",
      "[1] \"error 0.0262\"\n",
      "[1] \"=====seed = 17\"\n",
      "         real\n",
      "predicted   No  Yes\n",
      "      No  4821  105\n",
      "      Yes   20   54\n",
      "[1] \"error 0.025\"\n",
      "[1] \"=====seed = 18\"\n",
      "         real\n",
      "predicted   No  Yes\n",
      "      No  4812  108\n",
      "      Yes   30   50\n",
      "[1] \"error 0.0276\"\n",
      "[1] \"=====seed = 19\"\n",
      "         real\n",
      "predicted   No  Yes\n",
      "      No  4816  111\n",
      "      Yes   21   52\n",
      "[1] \"error 0.0264\"\n",
      "[1] \"=====seed = 20\"\n",
      "         real\n",
      "predicted   No  Yes\n",
      "      No  4797  119\n",
      "      Yes   25   59\n",
      "[1] \"error 0.0288\"\n"
     ]
    }
   ],
   "source": [
    "for (seed in 11:20){\n",
    "    set.seed(seed)\n",
    "    train = sample(nrow(Default), nrow(Default)/2)\n",
    "    mis_tab = get_mis_tab(train)\n",
    "    \n",
    "    print(paste('=====seed =', as.character(seed)))\n",
    "    print(mis_tab)\n",
    "    print(paste(\"error\", comp_err_mt(mis_tab)))\n",
    "}"
   ]
  },
  {
   "cell_type": "markdown",
   "id": "8aea9313-ef16-4677-b0c0-9d1e97b2442f",
   "metadata": {},
   "source": [
    "Каждый раз получвется новый результат"
   ]
  }
 ],
 "metadata": {
  "kernelspec": {
   "display_name": "R",
   "language": "R",
   "name": "ir"
  },
  "language_info": {
   "codemirror_mode": "r",
   "file_extension": ".r",
   "mimetype": "text/x-r-source",
   "name": "R",
   "pygments_lexer": "r",
   "version": "4.1.3"
  }
 },
 "nbformat": 4,
 "nbformat_minor": 5
}
