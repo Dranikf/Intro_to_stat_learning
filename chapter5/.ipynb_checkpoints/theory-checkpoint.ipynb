{
 "cells": [
  {
   "cell_type": "markdown",
   "id": "377b9af4-763b-4ce6-93f0-0d80d849f8dd",
   "metadata": {
    "tags": []
   },
   "source": [
    "**Теория**"
   ]
  },
  {
   "cell_type": "markdown",
   "id": "27681e68-894e-4837-b265-785d38f1b457",
   "metadata": {},
   "source": [
    "## 2"
   ]
  },
  {
   "cell_type": "markdown",
   "id": "ece33bfb-76a2-4ba4-9481-44ae99e98c0d",
   "metadata": {},
   "source": [
    "g"
   ]
  },
  {
   "cell_type": "code",
   "execution_count": 5,
   "id": "a5de1507-1479-471e-8a3b-692e546d38e2",
   "metadata": {},
   "outputs": [
    {
     "data": {
      "image/png": "[encoded data removed]",
      "text/plain": [
       "plot without title"
      ]
     },
     "metadata": {
      "image/png": {
       "height": 420,
       "width": 420
      }
     },
     "output_type": "display_data"
    }
   ],
   "source": [
    "p = rep(NA, 10000)\n",
    "for (i in 1:10000){\n",
    "    p[i] = 1 - (1-1/i)^i\n",
    "}\n",
    "\n",
    "plot(1:10000, p, type = 'l')"
   ]
  },
  {
   "cell_type": "markdown",
   "id": "7bf4cd72-03f3-4a59-bec6-5a2301760876",
   "metadata": {},
   "source": [
    "**вывод**\n",
    "\n",
    "Если объем выбоки больше 100 вероятность вхождения в него любого наблюдения почти не изменяется и находится около 0.62."
   ]
  },
  {
   "cell_type": "markdown",
   "id": "52dd462d-200d-40a0-b5d3-c3e30cbe3fb6",
   "metadata": {},
   "source": [
    "h"
   ]
  },
  {
   "cell_type": "code",
   "execution_count": 34,
   "id": "8d658030-304b-4a13-bf37-be2cf36a0576",
   "metadata": {},
   "outputs": [
    {
     "data": {
      "text/html": [
       "0.636"
      ],
      "text/latex": [
       "0.636"
      ],
      "text/markdown": [
       "0.636"
      ],
      "text/plain": [
       "[1] 0.636"
      ]
     },
     "metadata": {},
     "output_type": "display_data"
    }
   ],
   "source": [
    "store = rep(NA, 10000)\n",
    "for (i in 1:10000){\n",
    "    store[i] = sum(sample(1:100, rep = TRUE) == 4) > 0\n",
    "}\n",
    "mean(store)"
   ]
  },
  {
   "cell_type": "code",
   "execution_count": 9,
   "id": "1634a0fd-9338-4d50-8a3b-0f592c219a5e",
   "metadata": {},
   "outputs": [
    {
     "data": {
      "text/html": [
       "0.633967658726771"
      ],
      "text/latex": [
       "0.633967658726771"
      ],
      "text/markdown": [
       "0.633967658726771"
      ],
      "text/plain": [
       "[1] 0.6339677"
      ]
     },
     "metadata": {},
     "output_type": "display_data"
    }
   ],
   "source": [
    "1 - (1 - 1/100)^100"
   ]
  },
  {
   "cell_type": "markdown",
   "id": "47bf5b7a-6318-48e9-9024-8e33cb76f2c9",
   "metadata": {},
   "source": [
    "**Вывод**\n",
    "\n",
    "Результаты вычислительного эксперимента очень близки к теоритическому результату, потому можно сделать вывод, что все подсчитано верно."
   ]
  }
 ],
 "metadata": {
  "kernelspec": {
   "display_name": "R",
   "language": "R",
   "name": "ir"
  },
  "language_info": {
   "codemirror_mode": "r",
   "file_extension": ".r",
   "mimetype": "text/x-r-source",
   "name": "R",
   "pygments_lexer": "r",
   "version": "4.1.3"
  }
 },
 "nbformat": 4,
 "nbformat_minor": 5
}
