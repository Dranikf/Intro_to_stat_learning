{
 "cells": [
  {
   "cell_type": "code",
   "execution_count": 29,
   "id": "86742abb-5326-4386-b9c2-6024078d49fe",
   "metadata": {},
   "outputs": [
    {
     "data": {
      "text/html": [
       "'/home/dranik/KFA/korses/intro_to_stat_learning/data_folder'"
      ],
      "text/latex": [
       "'/home/dranik/KFA/korses/intro\\_to\\_stat\\_learning/data\\_folder'"
      ],
      "text/markdown": [
       "'/home/dranik/KFA/korses/intro_to_stat_learning/data_folder'"
      ],
      "text/plain": [
       "[1] \"/home/dranik/KFA/korses/intro_to_stat_learning/data_folder\""
      ]
     },
     "metadata": {},
     "output_type": "display_data"
    }
   ],
   "source": [
    "library(stringr)\n",
    "library(ISLR)\n",
    "\n",
    "pfn = \"intro_to_stat_learning\"\n",
    "curr_dir = getwd()\n",
    "\n",
    "project_path = file.path(\n",
    "    substr(curr_dir, 0, unlist(gregexpr(pfn, curr_dir))[1] - 2),\n",
    "    pfn\n",
    ")\n",
    "\n",
    "data_fold = file.path(project_path, \"data_folder\")"
   ]
  },
  {
   "cell_type": "markdown",
   "id": "7a9c8728-2430-471e-8544-ce893df2ad7e",
   "metadata": {},
   "source": [
    "# Задание 1"
   ]
  },
  {
   "cell_type": "markdown",
   "id": "34855f48-a98c-4662-88f0-1bc99baa085a",
   "metadata": {},
   "source": [
    "### 1.a Загрузка данных с использование read.csv"
   ]
  },
  {
   "cell_type": "markdown",
   "id": "1b8cd150-a751-4ba7-8c71-308779379e13",
   "metadata": {},
   "source": [
    "Набор данных College я нашел в библиотеке ISLR потому для его загрузки в виде .csv надо его сначала сохранить в виде .csv"
   ]
  },
  {
   "cell_type": "code",
   "execution_count": 27,
   "id": "2a48fd46-9e4c-456f-b4f9-a9d9a780d430",
   "metadata": {},
   "outputs": [
    {
     "name": "stderr",
     "output_type": "stream",
     "text": [
      "Warning message in file(file, ifelse(append, \"a\", \"w\")):\n",
      "“не могу открыть файл '/home/dranik/KFA/korses/data_folder/College.csv': Нет такого файла или каталога”\n"
     ]
    },
    {
     "ename": "ERROR",
     "evalue": "Error in file(file, ifelse(append, \"a\", \"w\")): не могу открыть соединение\n",
     "output_type": "error",
     "traceback": [
      "Error in file(file, ifelse(append, \"a\", \"w\")): не могу открыть соединение\nTraceback:\n",
      "1. write.csv(College, file.path(data_fold, \"College.csv\"))",
      "2. eval.parent(Call)",
      "3. eval(expr, p)",
      "4. eval(expr, p)",
      "5. utils::write.table(College, file.path(data_fold, \"College.csv\"), \n .     col.names = NA, sep = \",\", dec = \".\", qmethod = \"double\")",
      "6. file(file, ifelse(append, \"a\", \"w\"))"
     ]
    }
   ],
   "source": [
    "data(College)\n",
    "write.csv(College, file.path(data_fold, \"College.csv\"))"
   ]
  }
 ],
 "metadata": {
  "kernelspec": {
   "display_name": "R",
   "language": "R",
   "name": "ir"
  },
  "language_info": {
   "codemirror_mode": "r",
   "file_extension": ".r",
   "mimetype": "text/x-r-source",
   "name": "R",
   "pygments_lexer": "r",
   "version": "4.1.3"
  }
 },
 "nbformat": 4,
 "nbformat_minor": 5
}
